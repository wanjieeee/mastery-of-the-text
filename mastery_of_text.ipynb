{
 "cells": [
  {
   "cell_type": "code",
   "execution_count": 1,
   "id": "3c4c76e8-cfe9-4043-93c1-c693e71b0e2c",
   "metadata": {},
   "outputs": [],
   "source": [
    "from urllib.request import urlopen\n",
    "\n",
    "url = \"https://www.gutenberg.org/cache/epub/10/pg10.txt\"\n",
    "response = urlopen(url)\n",
    "pg10 = response.read().decode('utf-8')"
   ]
  },
  {
   "cell_type": "code",
   "execution_count": 16,
   "id": "a56d82ed-ef1b-45ef-ac43-c3606f58a6d0",
   "metadata": {},
   "outputs": [
    {
     "name": "stdout",
     "output_type": "stream",
     "text": [
      "Number of lines: 99968\n"
     ]
    }
   ],
   "source": [
    "# Q1: How many lines does the string have?\n",
    "\n",
    "num_lines = len(pg10.splitlines()) \n",
    "print(\"Number of lines:\", num_lines)"
   ]
  },
  {
   "cell_type": "code",
   "execution_count": 17,
   "id": "c34dcd1f-a60c-45f4-a032-2b9da5063bb2",
   "metadata": {},
   "outputs": [
    {
     "name": "stdout",
     "output_type": "stream",
     "text": [
      "Number of words: 795227\n"
     ]
    }
   ],
   "source": [
    "# Q2: How many words does the string have? (where a word is any set of directly-adjacent alphabet characters)\n",
    "\n",
    "import re\n",
    "\n",
    "words = re.findall(r'[a-zA-Z]+', pg10)\n",
    "number_of_words = len(words)\n",
    "print(\"Number of words:\", number_of_words)"
   ]
  },
  {
   "cell_type": "code",
   "execution_count": 18,
   "id": "c25efb84-bdd3-4486-a996-ac2031a9dd11",
   "metadata": {},
   "outputs": [
    {
     "name": "stdout",
     "output_type": "stream",
     "text": [
      "Occurrences of 'apostle': 47\n"
     ]
    }
   ],
   "source": [
    "# Q3: How many times does the word \"apostle\", ignoring capitalization, appear in the string?\n",
    "\n",
    "apostle_count = sum(1 for word in words if word.lower() == \"apostle\")\n",
    "print(\"Occurrences of 'apostle':\", apostle_count)"
   ]
  },
  {
   "cell_type": "code",
   "execution_count": 19,
   "id": "90087943-7ff8-47c6-b746-11cf8a29eb73",
   "metadata": {},
   "outputs": [
    {
     "name": "stdout",
     "output_type": "stream",
     "text": [
      "Most common word: the\n",
      "Occurrences: 64309\n"
     ]
    }
   ],
   "source": [
    "# Q4: What is the most common word, ignoring capitalization, in the string? (where a word is any set of directly-adjacent alphabet characters)\n",
    "\n",
    "word_counts = {}\n",
    "for word in words:\n",
    "    lowered = word.lower()\n",
    "    word_counts[lowered] = word_counts.get(lowered, 0) + 1\n",
    "\n",
    "most_common_word = max(word_counts, key=word_counts.get)\n",
    "print(\"Most common word:\", most_common_word)\n",
    "print(\"Occurrences:\", word_counts[most_common_word])"
   ]
  }
 ],
 "metadata": {
  "kernelspec": {
   "display_name": "Python 3 (ipykernel)",
   "language": "python",
   "name": "python3"
  },
  "language_info": {
   "codemirror_mode": {
    "name": "ipython",
    "version": 3
   },
   "file_extension": ".py",
   "mimetype": "text/x-python",
   "name": "python",
   "nbconvert_exporter": "python",
   "pygments_lexer": "ipython3",
   "version": "3.12.7"
  }
 },
 "nbformat": 4,
 "nbformat_minor": 5
}
